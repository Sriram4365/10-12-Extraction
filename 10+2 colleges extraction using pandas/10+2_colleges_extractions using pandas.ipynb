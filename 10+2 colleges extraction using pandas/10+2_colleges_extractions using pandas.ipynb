{
  "nbformat": 4,
  "nbformat_minor": 0,
  "metadata": {
    "colab": {
      "provenance": []
    },
    "kernelspec": {
      "name": "python3",
      "display_name": "Python 3"
    },
    "language_info": {
      "name": "python"
    }
  },
  "cells": [
    {
      "cell_type": "code",
      "source": [
        "pip install pdfplumber"
      ],
      "metadata": {
        "colab": {
          "base_uri": "https://localhost:8080/"
        },
        "id": "B2U4RoxQJESa",
        "outputId": "74afa2ad-4644-4e43-fe2b-e2d7c7042e62"
      },
      "execution_count": 4,
      "outputs": [
        {
          "output_type": "stream",
          "name": "stdout",
          "text": [
            "Collecting pdfplumber\n",
            "  Downloading pdfplumber-0.10.3-py3-none-any.whl (48 kB)\n",
            "\u001b[?25l     \u001b[90m━━━━━━━━━━━━━━━━━━━━━━━━━━━━━━━━━━━━━━━━\u001b[0m \u001b[32m0.0/49.0 kB\u001b[0m \u001b[31m?\u001b[0m eta \u001b[36m-:--:--\u001b[0m\r\u001b[2K     \u001b[90m━━━━━━━━━━━━━━━━━━━━━━━━━━━━━━━━━━━━━━━━\u001b[0m \u001b[32m49.0/49.0 kB\u001b[0m \u001b[31m1.7 MB/s\u001b[0m eta \u001b[36m0:00:00\u001b[0m\n",
            "\u001b[?25hCollecting pdfminer.six==20221105 (from pdfplumber)\n",
            "  Downloading pdfminer.six-20221105-py3-none-any.whl (5.6 MB)\n",
            "\u001b[2K     \u001b[90m━━━━━━━━━━━━━━━━━━━━━━━━━━━━━━━━━━━━━━━━\u001b[0m \u001b[32m5.6/5.6 MB\u001b[0m \u001b[31m21.0 MB/s\u001b[0m eta \u001b[36m0:00:00\u001b[0m\n",
            "\u001b[?25hRequirement already satisfied: Pillow>=9.1 in /usr/local/lib/python3.10/dist-packages (from pdfplumber) (9.4.0)\n",
            "Collecting pypdfium2>=4.18.0 (from pdfplumber)\n",
            "  Downloading pypdfium2-4.25.0-py3-none-manylinux_2_17_x86_64.whl (3.0 MB)\n",
            "\u001b[2K     \u001b[90m━━━━━━━━━━━━━━━━━━━━━━━━━━━━━━━━━━━━━━━━\u001b[0m \u001b[32m3.0/3.0 MB\u001b[0m \u001b[31m50.5 MB/s\u001b[0m eta \u001b[36m0:00:00\u001b[0m\n",
            "\u001b[?25hRequirement already satisfied: charset-normalizer>=2.0.0 in /usr/local/lib/python3.10/dist-packages (from pdfminer.six==20221105->pdfplumber) (3.3.2)\n",
            "Requirement already satisfied: cryptography>=36.0.0 in /usr/local/lib/python3.10/dist-packages (from pdfminer.six==20221105->pdfplumber) (41.0.7)\n",
            "Requirement already satisfied: cffi>=1.12 in /usr/local/lib/python3.10/dist-packages (from cryptography>=36.0.0->pdfminer.six==20221105->pdfplumber) (1.16.0)\n",
            "Requirement already satisfied: pycparser in /usr/local/lib/python3.10/dist-packages (from cffi>=1.12->cryptography>=36.0.0->pdfminer.six==20221105->pdfplumber) (2.21)\n",
            "Installing collected packages: pypdfium2, pdfminer.six, pdfplumber\n",
            "Successfully installed pdfminer.six-20221105 pdfplumber-0.10.3 pypdfium2-4.25.0\n"
          ]
        }
      ]
    },
    {
      "cell_type": "code",
      "execution_count": 8,
      "metadata": {
        "colab": {
          "base_uri": "https://localhost:8080/"
        },
        "id": "u0ZBtGgNCAs2",
        "outputId": "8088e364-fc35-4453-e734-85c8705b12b5"
      },
      "outputs": [
        {
          "output_type": "stream",
          "name": "stdout",
          "text": [
            "Data saved to 10+2 colleges.xlsx\n"
          ]
        }
      ],
      "source": [
        "import pdfplumber\n",
        "import pandas as pd\n",
        "\n",
        "def extract_data_from_pdf(pdf_path):\n",
        "    data = {\n",
        "        \"College Name\": [],\n",
        "        \"Address\": [],\n",
        "        \"Contact No.\": [],\n",
        "        \"Website\": []\n",
        "    }\n",
        "\n",
        "    with pdfplumber.open(pdf_path) as pdf:\n",
        "        for page_number in range(len(pdf.pages)):\n",
        "            page = pdf.pages[page_number]\n",
        "            table = page.extract_table()\n",
        "\n",
        "            # Assuming columns are in the order specified\n",
        "            for row in table[1:]:  # Skip the header row\n",
        "                data[\"College Name\"].append(row[1].strip())\n",
        "                data[\"Address\"].append(row[2].strip())\n",
        "                data[\"Contact No.\"].append(row[7].strip())\n",
        "                data[\"Website\"].append(row[9].strip())\n",
        "\n",
        "    return pd.DataFrame(data)\n",
        "\n",
        "def save_to_excel(data, excel_path):\n",
        "    data.to_excel(excel_path, index=False)\n",
        "    print(f\"Data saved to {excel_path}\")\n",
        "\n",
        "# Replace 'your_pdf_file.pdf' and 'output_excel_file.xlsx' with your actual file names\n",
        "pdf_path = '10+2 colleges.pdf'\n",
        "excel_path = '10+2 colleges.xlsx'\n",
        "\n",
        "data = extract_data_from_pdf(pdf_path)\n",
        "save_to_excel(data, excel_path)\n"
      ]
    }
  ]
}